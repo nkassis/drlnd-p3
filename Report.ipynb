{
 "cells": [
  {
   "cell_type": "markdown",
   "metadata": {},
   "source": [
    "# Collaboration and Competition\n",
    "\n",
    "Here is my solution to the third project of the udacity deep reinforcement learning nanodegree.\n",
    "\n",
    "The goal of this project is training agents to play tennis. "
   ]
  },
  {
   "cell_type": "code",
   "execution_count": 1,
   "metadata": {},
   "outputs": [],
   "source": [
    "from unityagents import UnityEnvironment\n",
    "import numpy as np\n",
    "import random\n",
    "import torch\n",
    "import numpy as np\n",
    "from collections import deque\n",
    "import matplotlib.pyplot as plt\n",
    "%matplotlib inline\n",
    "\n",
    "from agent import Agent\n",
    "from replay_buffer import ReplayBuffer"
   ]
  },
  {
   "cell_type": "markdown",
   "metadata": {},
   "source": [
    "The following cells load the tennis environment and describe the environment"
   ]
  },
  {
   "cell_type": "code",
   "execution_count": 2,
   "metadata": {},
   "outputs": [
    {
     "name": "stderr",
     "output_type": "stream",
     "text": [
      "INFO:unityagents:\n",
      "'Academy' started successfully!\n",
      "Unity Academy name: Academy\n",
      "        Number of Brains: 1\n",
      "        Number of External Brains : 1\n",
      "        Lesson number : 0\n",
      "        Reset Parameters :\n",
      "\t\t\n",
      "Unity brain name: TennisBrain\n",
      "        Number of Visual Observations (per agent): 0\n",
      "        Vector Observation space type: continuous\n",
      "        Vector Observation space size (per agent): 8\n",
      "        Number of stacked Vector Observation: 3\n",
      "        Vector Action space type: continuous\n",
      "        Vector Action space size (per agent): 2\n",
      "        Vector Action descriptions: , \n"
     ]
    }
   ],
   "source": [
    "env = UnityEnvironment(file_name=\"Tennis_Linux/Tennis.exe\")"
   ]
  },
  {
   "cell_type": "markdown",
   "metadata": {},
   "source": []
  },
  {
   "cell_type": "code",
   "execution_count": 3,
   "metadata": {},
   "outputs": [],
   "source": [
    "# get the default brain\n",
    "brain_name = env.brain_names[0]\n",
    "brain = env.brains[brain_name]"
   ]
  },
  {
   "cell_type": "markdown",
   "metadata": {},
   "source": [
    "### 2. Examine the State and Action Spaces\n",
    "\n",
    "In this environment, two agents control rackets to bounce a ball over a net. If an agent hits the ball over the net, it receives a reward of +0.1.  If an agent lets a ball hit the ground or hits the ball out of bounds, it receives a reward of -0.01.  Thus, the goal of each agent is to keep the ball in play.\n",
    "\n",
    "The observation space consists of 8 variables corresponding to the position and velocity of the ball and racket. Two continuous actions are available, corresponding to movement toward (or away from) the net, and jumping. "
   ]
  },
  {
   "cell_type": "code",
   "execution_count": 4,
   "metadata": {},
   "outputs": [
    {
     "name": "stdout",
     "output_type": "stream",
     "text": [
      "Number of agents: 2\n",
      "Size of each action: 2\n",
      "There are 2 agents. Each observes a state with length: 24\n",
      "The state for the first agent looks like: [ 0.          0.          0.          0.          0.          0.\n",
      "  0.          0.          0.          0.          0.          0.\n",
      "  0.          0.          0.          0.         -6.65278625 -1.5\n",
      " -0.          0.          6.83172083  6.         -0.          0.        ]\n"
     ]
    }
   ],
   "source": [
    "# reset the environment\n",
    "env_info = env.reset(train_mode=True)[brain_name]\n",
    "\n",
    "# number of agents \n",
    "num_agents = len(env_info.agents)\n",
    "print('Number of agents:', num_agents)\n",
    "\n",
    "# size of each action\n",
    "action_size = brain.vector_action_space_size\n",
    "print('Size of each action:', action_size)\n",
    "\n",
    "# examine the state space \n",
    "states = env_info.vector_observations\n",
    "state_size = states.shape[1]\n",
    "print('There are {} agents. Each observes a state with length: {}'.format(states.shape[0], state_size))\n",
    "print('The state for the first agent looks like:', states[0])"
   ]
  },
  {
   "cell_type": "markdown",
   "metadata": {},
   "source": [
    "## Agent and Neural Network architecture\n",
    "Here is the initialization of the two ddpg agent and all the hyper parameters used (minus the model's layer unit sizes which I have defined in model.py)\n",
    "\n",
    "I kept the model, agent and hyperparameters very close to what I used in project 2. I had to tweak a few things. \n",
    "\n",
    "Most importantly the two agents share a replay buffer such that their experience is combined when training. \n",
    "\n",
    "I  increased the value of the batch size which seemed to help by making the agent accumulate more experiences before the actor and critic start to learn. (The agent don't start learning until after the replay buffer has more than batch_size examples)\n",
    "\n",
    "The model for the actor has three fully connected layers with a rectified linear unit (ReLU) activation function on the first two layers and uses tanh after the third layer. First two layers are 400, 300 units in size. The first 2 layers use relu as activation functions and the final layer uses tanh. \n",
    "\n",
    "The critic network uses 3 fully connected layers. This is down from 4 for the previous project. This seemed to help improve the speed of learning the value function. Layer 1 has 256 units, layer 2 has 128 units. Layer 1 and 2 use relu activation functions. \n",
    "\n",
    "Noise was added using an Ornstein-Uhlenbeck process (as recommended in the paper) theta and sigma were set as the same values as the paper 0.15 and 0.2 respectively. I noticed that the agents struggled to learn after a certain amount of episodes and tried removing the noise. This improved learning significantly. \n",
    "\n",
    "Another thing I changed was that I set weight_decay to 0. With weight_decay the agents seemed to get stuck either at the edge of their play area. After I removed the weight_decay accidentally on one of the agent I noticed that it was starting to succeeded at tracking the ball while the other was not. I removed it from both and finally was able to solve the problem. I may have had the values for weight decay set incorrectly. \n",
    "\n",
    "\n",
    "Here is the initalization of the agent and all the hyper parameters used."
   ]
  },
  {
   "cell_type": "code",
   "execution_count": null,
   "metadata": {
    "scrolled": true
   },
   "outputs": [],
   "source": [
    "BUFFER_SIZE=int(1e6)\n",
    "BATCH_SIZE=512\n",
    "GAMMA=0.99     \n",
    "TAU=1e-2\n",
    "LR_ACTOR=1e-3     \n",
    "LR_CRITIC=1e-3      \n",
    "WEIGHT_DECAY=0\n",
    "RANDOM_SEED=0\n",
    "\n",
    "agent1 = Agent(\n",
    "    state_size=state_size,\n",
    "    action_size=action_size,\n",
    "    buffer_size=BUFFER_SIZE,\n",
    "    batch_size=BATCH_SIZE,    \n",
    "    gamma=GAMMA,           \n",
    "    tau=TAU,\n",
    "    lr_actor=LR_ACTOR,       \n",
    "    lr_critic=LR_CRITIC,        \n",
    "    weight_decay=WEIGHT_DECAY,\n",
    "    random_seed=RANDOM_SEED\n",
    ")\n",
    "\n",
    "agent2 = Agent(\n",
    "    state_size=state_size,\n",
    "    action_size=action_size,\n",
    "    memory=agent1.memory, # Sharing replay memory between ddpg agents. \n",
    "    batch_size=BATCH_SIZE,    \n",
    "    gamma=GAMMA,           \n",
    "    tau=TAU,\n",
    "    lr_actor=LR_ACTOR,       \n",
    "    lr_critic=LR_CRITIC,        \n",
    "    weight_decay=WEIGHT_DECAY,\n",
    "    random_seed=RANDOM_SEED\n",
    ")"
   ]
  },
  {
   "cell_type": "code",
   "execution_count": null,
   "metadata": {},
   "outputs": [
    {
     "name": "stdout",
     "output_type": "stream",
     "text": [
      "Episode 100\tAverage Score: 0.00 best_score 0.09000000171363354\n",
      "Episode 200\tAverage Score: 0.00 best_score 0.09000000171363354\n",
      "Episode 300\tAverage Score: 0.04 best_score 0.10000000149011612\n",
      "Episode 400\tAverage Score: 0.13 best_score 0.90000001341104516\n",
      "Episode 462\tAverage Score: 0.50 best_score 2.6000000387430191\n",
      "Environment solved in 462 episodes!\tAverage Score: 0.50\n"
     ]
    },
    {
     "data": {
      "image/png": "[encoded data removed]",
      "text/plain": [
       "<Figure size 432x288 with 1 Axes>"
      ]
     },
     "metadata": {
      "needs_background": "light"
     },
     "output_type": "display_data"
    }
   ],
   "source": [
    "STOP_NOISE_AFTER_EP=300\n",
    "env_info = env.reset(train_mode=True)[brain_name]\n",
    "def ddpg(n_episodes=1500, print_every=100):\n",
    "    scores_deque = deque(maxlen=print_every)\n",
    "    scores = []\n",
    "    best_score = 0.0\n",
    "    add_noise = True\n",
    "    for i_episode in range(1, n_episodes+1):\n",
    "        if i_episode > STOP_NOISE_AFTER_EP:\n",
    "            add_noise = False\n",
    "        env_info = env.reset(train_mode=True)[brain_name]\n",
    "        states = env_info.vector_observations\n",
    "        agent1.reset()\n",
    "        agent2.reset()\n",
    "        scores_ep = np.zeros(num_agents)\n",
    "        while True:\n",
    "            action1 = agent1.act(states[0], add_noise=add_noise).tolist()\n",
    "            action2 = agent2.act(states[1], add_noise=add_noise).tolist()\n",
    "            actions = [action1, action2]\n",
    "            env_info = env.step(actions)[brain_name]\n",
    "            next_states = env_info.vector_observations\n",
    "            rewards = env_info.rewards\n",
    "            dones = env_info.local_done\n",
    "            agent1.step(states[0], action1, rewards[0], next_states[0], dones[0])\n",
    "            agent2.step(states[1], action2, rewards[1], next_states[1], dones[1])\n",
    "            scores_ep += rewards\n",
    "            states = next_states\n",
    "            if np.any(dones):\n",
    "                break\n",
    "        max_score = np.max(scores_ep)\n",
    "        scores_deque.append(max_score)\n",
    "        scores.append(max_score)\n",
    "        if max_score > best_score:\n",
    "            best_score = max_score\n",
    "        print('\\rEpisode {}\\tAverage Score: {:.2f} best_score {}'.format(i_episode, np.mean(scores_deque), best_score), end=\"\")\n",
    "        torch.save(agent1.actor_local.state_dict(), 'checkpoint_actor1.pth')\n",
    "        torch.save(agent1.critic_local.state_dict(), 'checkpoint_critic1.pth')\n",
    "        torch.save(agent2.actor_local.state_dict(), 'checkpoint_actor2.pth')\n",
    "        torch.save(agent2.critic_local.state_dict(), 'checkpoint_critic2.pth')\n",
    "        if i_episode % print_every == 0:\n",
    "            print('\\rEpisode {}\\tAverage Score: {:.2f}'.format(i_episode, np.mean(scores_deque)))\n",
    "        if np.mean(scores_deque) >= 0.5:\n",
    "            print('\\nEnvironment solved in {:d} episodes!\\tAverage Score: {:.2f}'.format(i_episode, np.mean(scores_deque)))\n",
    "            torch.save(agent1.actor_local.state_dict(), 'checkpoint_actor1.pth')\n",
    "            torch.save(agent1.critic_local.state_dict(), 'checkpoint_critic1.pth')\n",
    "            torch.save(agent2.actor_local.state_dict(), 'checkpoint_actor2.pth')\n",
    "            torch.save(agent2.critic_local.state_dict(), 'checkpoint_critic2.pth')\n",
    "            break\n",
    "    return scores\n",
    "\n",
    "scores = ddpg()\n",
    "\n",
    "fig = plt.figure()\n",
    "ax = fig.add_subplot(111)\n",
    "plt.plot(np.arange(1, len(scores)+1), scores)\n",
    "plt.ylabel('Score')\n",
    "plt.xlabel('Episode #')\n",
    "plt.show()"
   ]
  },
  {
   "cell_type": "markdown",
   "metadata": {},
   "source": [
    "## Watch the agent"
   ]
  },
  {
   "cell_type": "code",
   "execution_count": null,
   "metadata": {},
   "outputs": [
    {
     "name": "stdout",
     "output_type": "stream",
     "text": [
      "Score (max over agents) from episode 1: 0.10000000149011612\n",
      "Score (max over agents) from episode 2: 0.7000000104308128\n",
      "Score (max over agents) from episode 3: 0.4000000059604645\n",
      "Score (max over agents) from episode 4: 0.6000000089406967\n"
     ]
    }
   ],
   "source": [
    "for i in range(1, 6):                                      # play game for 5 episodes\n",
    "    env_info = env.reset(train_mode=False)[brain_name]     # reset the environment    \n",
    "    states = env_info.vector_observations                  # get the current state (for each agent)\n",
    "    scores = np.zeros(num_agents)                          # initialize the score (for each agent)\n",
    "    while True:\n",
    "        action1 = agent1.act(states[0], add_noise=False).tolist()\n",
    "        action2 = agent2.act(states[1], add_noise=False).tolist()\n",
    "        actions = [action1, action2]\n",
    "        env_info = env.step(actions)[brain_name]           # send all actions to tne environment\n",
    "        next_states = env_info.vector_observations         # get next state (for each agent)\n",
    "        rewards = env_info.rewards                         # get reward (for each agent)\n",
    "        dones = env_info.local_done                        # see if episode finished\n",
    "        scores += env_info.rewards                         # update the score (for each agent)\n",
    "        states = next_states                               # roll over states to next time step\n",
    "        if np.any(dones):                                  # exit loop if episode finished\n",
    "            break\n",
    "    print('Score (max over agents) from episode {}: {}'.format(i, np.max(scores)))"
   ]
  },
  {
   "cell_type": "code",
   "execution_count": null,
   "metadata": {},
   "outputs": [],
   "source": [
    "env.close()"
   ]
  },
  {
   "cell_type": "markdown",
   "metadata": {},
   "source": [
    "## Future Improvements\n",
    "I've seen suggestions that others have had success with similar problems using using a Proximal Policy Optimization algorithm instead ddpg.\n",
    "\n",
    "Another thing I'd like to train is share more information between agents. For example having the actor networks sync weights (I was thinking throught averaging them) after a certain amount of episodes. "
   ]
  }
 ],
 "metadata": {
  "kernelspec": {
   "display_name": "Python 3",
   "language": "python",
   "name": "python3"
  },
  "language_info": {
   "codemirror_mode": {
    "name": "ipython",
    "version": 3
   },
   "file_extension": ".py",
   "mimetype": "text/x-python",
   "name": "python",
   "nbconvert_exporter": "python",
   "pygments_lexer": "ipython3",
   "version": "3.6.7"
  }
 },
 "nbformat": 4,
 "nbformat_minor": 2
}
